{
 "cells": [
  {
   "cell_type": "markdown",
   "id": "db79523e-9d44-4076-83ed-09d6466ec9dc",
   "metadata": {},
   "source": [
    "# My First Data Science Notebook\n"
   ]
  },
  {
   "cell_type": "markdown",
   "id": "36102801-f8b1-481f-9363-549462d6bf9c",
   "metadata": {},
   "source": [
    "## Introduction\n",
    "This notebook introduces various data science tools, languages, and libraries.\n"
   ]
  },
  {
   "cell_type": "markdown",
   "id": "6f55649b-d490-4a9a-80fc-d4036234c0c0",
   "metadata": {},
   "source": [
    "## Data Science Languages\n",
    "- Python\n",
    "- R\n",
    "- SQL\n",
    "- Julia\n"
   ]
  },
  {
   "cell_type": "markdown",
   "id": "9feacecf-4aac-4d26-8021-aa3e332f229b",
   "metadata": {},
   "source": [
    "## Data Science Libraries\n",
    "- Pandas\n",
    "- Numpy\n",
    "- Matplotlib\n",
    "- Scikit-learn\n"
   ]
  },
  {
   "cell_type": "markdown",
   "id": "e4a8f6ed-ce95-4fb1-819f-f94e8b1a7006",
   "metadata": {},
   "source": [
    "## Data Science Tools\n",
    "| Tool        | Purpose                               |\n",
    "|-------------|---------------------------------------|\n",
    "| Jupyter    | Interactive Notebooking               |\n",
    "| RStudio    | R Development                         |\n",
    "| PyCharm    | Python Development                    |\n",
    "| SQL Workbench | SQL Database Interaction            |\n"
   ]
  },
  {
   "cell_type": "markdown",
   "id": "3136fca1-3d89-458a-88b7-ce9a0a85a3a0",
   "metadata": {},
   "source": [
    "## Arithmetic Expressions\r\n",
    "Below are examples of basic arithmetic operations.\r\n"
   ]
  },
  {
   "cell_type": "code",
   "execution_count": 24,
   "id": "39d71509-ff54-4b4c-a5e4-623f4d12c0d3",
   "metadata": {},
   "outputs": [
    {
     "name": "stdout",
     "output_type": "stream",
     "text": [
      "product: 25\n",
      "sum: 9\n"
     ]
    }
   ],
   "source": [
    "# Multiplication\n",
    "s = 5 * 5;\n",
    "print(\"product:\", s)\n",
    "\n",
    "# Addition\n",
    "d = 5 + 4;\n",
    "print(\"sum:\", d)"
   ]
  },
  {
   "cell_type": "code",
   "execution_count": 12,
   "id": "e86f9e86-5e3f-43dd-a8de-913987ba3dea",
   "metadata": {},
   "outputs": [
    {
     "name": "stdout",
     "output_type": "stream",
     "text": [
      "120 minutes is equal to 2.0 hours.\n"
     ]
    }
   ],
   "source": [
    "mins = 120\n",
    "h = mins / 60\n",
    "print(f\"{mins} minutes is equal to {h} hours.\")\n"
   ]
  },
  {
   "cell_type": "markdown",
   "id": "2ae2941e-b834-4701-b208-1ff3b5a01ebf",
   "metadata": {},
   "source": [
    "## Objectives\r\n",
    "- Understand data science tools and libraries.\r\n",
    "- Practice arithmetic operations.\r\n",
    "- Familiarize with Jupyter notebooks.\r\n"
   ]
  },
  {
   "cell_type": "markdown",
   "id": "47e3a93e-b58c-42a1-8eb7-a82c79074017",
   "metadata": {},
   "source": [
    "## Author\n",
    "János Tigyi\n"
   ]
  }
 ],
 "metadata": {
  "kernelspec": {
   "display_name": "Python 3 (ipykernel)",
   "language": "python",
   "name": "python3"
  },
  "language_info": {
   "codemirror_mode": {
    "name": "ipython",
    "version": 3
   },
   "file_extension": ".py",
   "mimetype": "text/x-python",
   "name": "python",
   "nbconvert_exporter": "python",
   "pygments_lexer": "ipython3",
   "version": "3.11.4"
  }
 },
 "nbformat": 4,
 "nbformat_minor": 5
}
